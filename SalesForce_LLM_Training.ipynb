{
  "cells": [
    {
      "cell_type": "markdown",
      "metadata": {
        "id": "view-in-github",
        "colab_type": "text"
      },
      "source": [
        "<a href=\"https://colab.research.google.com/github/sgangoly/Generative-AI-for-Security/blob/main/SalesForce_LLM_Training.ipynb\" target=\"_parent\"><img src=\"https://colab.research.google.com/assets/colab-badge.svg\" alt=\"Open In Colab\"/></a>"
      ]
    },
    {
      "cell_type": "markdown",
      "id": "90fc8744",
      "metadata": {
        "id": "90fc8744"
      },
      "source": [
        "## LLM with Salesforce/xgen-7b-8k-base model, using PyTorch and Alpaca dataset from Hugging Face ##"
      ]
    },
    {
      "cell_type": "markdown",
      "id": "8ef08f50",
      "metadata": {
        "id": "8ef08f50"
      },
      "source": [
        "Trl: used to train transformer language models with reinforcement learning.\n",
        "\n",
        "<br> Peft uses the parameter-efficient fine-tuning (PEFT) methods to enable efficient adaptation of the pre-trained model.\n",
        "<br>\n",
        "Torch: a widely-used open-source machine learning library.\n",
        "<br>\n",
        "Datasets: used to assist in downloading and loading many common machine learning datasets.\n",
        "<br>\n",
        "The code is written in a Jupyter notebook cell with the \"%%bash\", which runs the cell as a bash shell script.\n",
        "<br>\n",
        "\"pip -q install trl\" ***installs the 'trl'*** Python package quietly, meaning it won't print any output.\n",
        "<br>\n",
        "\"pip -q install peft\" ***installs the 'peft'*** Python package quietly.\n",
        "<br>\n",
        "\"pip -q install torch\" ***installs the 'torch'*** Python package quietly, which is a popular library for deep learning.\n",
        "<br>\n",
        "\"pip -q install datasets\" ***installs the 'datasets'*** Python package quietly, used for loading and processing datasets.\n",
        "<br>\n",
        "\"pip -q install transformers\" ***installs the 'transformers'*** Python package quietly, used for state-of-the-art natural language processing.\n",
        "\n",
        "\n"
      ]
    },
    {
      "cell_type": "code",
      "execution_count": null,
      "id": "a4f4b5e9",
      "metadata": {
        "id": "a4f4b5e9",
        "outputId": "116633cb-07e5-4caf-9eef-e89d1d8ed55e"
      },
      "outputs": [
        {
          "name": "stderr",
          "output_type": "stream",
          "text": [
            "bash: /home/sgangoly/anaconda3/envs/tf/lib/libtinfo.so.6: no version information available (required by bash)\n"
          ]
        }
      ],
      "source": [
        "%%bash\n",
        "pip -q install trl\n",
        "pip -q install peft\n",
        "pip -q install torch\n",
        "pip -q install datasets\n",
        "pip -q install transformers"
      ]
    },
    {
      "cell_type": "markdown",
      "id": "8267d954",
      "metadata": {
        "id": "8267d954"
      },
      "source": [
        "Import the ***torch*** library, a popular open-source machine learning library.\n",
        "<br>\n",
        "• from trl import ***SFTTrainer*** imports the SFTTrainer class from the trl (Transfer Reinforcement Learning) library.\n",
        "<br>\n",
        "• from datasets import ***load_dataset*** imports the load_dataset function from the datasets library.\n",
        "<br>\n",
        "• from peft import ***LoraConfig, get_peft_model, prepare_model_for_int8_training*** imports three items from the peft library.\n",
        "<br>\n",
        "• from transformers import ***AutoModelForCausalLM, AutoTokenizer, TrainingArguments*** imports three items from the transformers library, a popular library for Natural Language Processing (NLP)."
      ]
    },
    {
      "cell_type": "code",
      "execution_count": null,
      "id": "b1c82757",
      "metadata": {
        "id": "b1c82757"
      },
      "outputs": [],
      "source": [
        "import torch\n",
        "from trl import SFTTrainer\n",
        "from datasets import load_dataset\n",
        "from peft import LoraConfig, get_peft_model, prepare_model_for_int8_training\n",
        "from transformers import AutoModelForCausalLM, AutoTokenizer, TrainingArguments"
      ]
    },
    {
      "cell_type": "markdown",
      "id": "79dadfe9",
      "metadata": {
        "id": "79dadfe9"
      },
      "source": [
        "### Data Loading and Preparation\n",
        "\n",
        "The  ***alpaca***  dataset, freely available on ***Hugging Face***, is used. The dataset has three main columns: ***instructions, input***, and ***output***. These columns are combined to generate a final text column.\n",
        "\n",
        "The instruction to load the dataset is given below by providing the name of the dataset of interest, which is ***tatsu-lab/alpaca***\n",
        "\n",
        "<br>\n",
        "\n",
        "The code is written in Python and uses the load_dataset function from the Hugging Face's datasets library.\n",
        "<br>\n",
        "The load_dataset function is used to load a dataset for machine learning tasks.\n",
        "<br>\n",
        "\"tatsu-lab/alpaca\" is the identifier of the dataset to be loaded from the Hugging Face's dataset hub.\n",
        "<br>\n",
        "The split parameter is set to \"train\" to load only the training portion of the dataset.\n",
        "<br>\n",
        "The loaded dataset is stored in the train_dataset variable.\n",
        "<br>\n",
        "The print function is used to display the content of the train_dataset variable."
      ]
    },
    {
      "cell_type": "code",
      "execution_count": null,
      "id": "2793ab3b",
      "metadata": {
        "id": "2793ab3b",
        "outputId": "cc31ec81-f780-4c2c-e144-13d87a06ff89",
        "colab": {
          "referenced_widgets": [
            "ca911e2fca3e4850b7aae9225bfdb8e7",
            "8d67ea4e2ba54f609306c6a255b6b3a3",
            "ce31d20c4aeb4f3fa8c8d1eec2756708"
          ]
        }
      },
      "outputs": [
        {
          "data": {
            "application/vnd.jupyter.widget-view+json": {
              "model_id": "ca911e2fca3e4850b7aae9225bfdb8e7",
              "version_major": 2,
              "version_minor": 0
            },
            "text/plain": [
              "Downloading readme:   0%|          | 0.00/7.47k [00:00<?, ?B/s]"
            ]
          },
          "metadata": {},
          "output_type": "display_data"
        },
        {
          "data": {
            "application/vnd.jupyter.widget-view+json": {
              "model_id": "8d67ea4e2ba54f609306c6a255b6b3a3",
              "version_major": 2,
              "version_minor": 0
            },
            "text/plain": [
              "Downloading data:   0%|          | 0.00/24.2M [00:00<?, ?B/s]"
            ]
          },
          "metadata": {},
          "output_type": "display_data"
        },
        {
          "data": {
            "application/vnd.jupyter.widget-view+json": {
              "model_id": "ce31d20c4aeb4f3fa8c8d1eec2756708",
              "version_major": 2,
              "version_minor": 0
            },
            "text/plain": [
              "Generating train split: 0 examples [00:00, ? examples/s]"
            ]
          },
          "metadata": {},
          "output_type": "display_data"
        },
        {
          "name": "stdout",
          "output_type": "stream",
          "text": [
            "Dataset({\n",
            "    features: ['instruction', 'input', 'output', 'text'],\n",
            "    num_rows: 52002\n",
            "})\n"
          ]
        }
      ],
      "source": [
        "train_dataset = load_dataset(\"tatsu-lab/alpaca\", split=\"train\")\n",
        "print(train_dataset)"
      ]
    },
    {
      "cell_type": "markdown",
      "id": "0d9ec8bf",
      "metadata": {
        "id": "0d9ec8bf"
      },
      "source": [
        "The data above is in a dictionary of two keys:\n",
        "<br>\n",
        "- **Features** : containing the main columns of the data\n",
        "<br>\n",
        "- **Num_rows**: corresponding to the total number of rows in the data\n"
      ]
    },
    {
      "cell_type": "markdown",
      "id": "364e38d0",
      "metadata": {
        "id": "364e38d0"
      },
      "source": [
        "The first five rows are displayed. First, we convert the dictionary into a pandas dataframe, then display the rows.\n",
        "<br>\n",
        "- The first line converts the ***'train_dataset'*** to a pandas DataFrame using the ***'to_pandas()'*** method.\n",
        "- The second line uses the ***'display()'*** function to print the first 5 rows of the DataFrame."
      ]
    },
    {
      "cell_type": "code",
      "execution_count": null,
      "id": "7ac0a7fd",
      "metadata": {
        "id": "7ac0a7fd",
        "outputId": "0770217c-5932-4cc9-ea0d-e3471a3795bd"
      },
      "outputs": [
        {
          "data": {
            "text/html": [
              "<div>\n",
              "<style scoped>\n",
              "    .dataframe tbody tr th:only-of-type {\n",
              "        vertical-align: middle;\n",
              "    }\n",
              "\n",
              "    .dataframe tbody tr th {\n",
              "        vertical-align: top;\n",
              "    }\n",
              "\n",
              "    .dataframe thead th {\n",
              "        text-align: right;\n",
              "    }\n",
              "</style>\n",
              "<table border=\"1\" class=\"dataframe\">\n",
              "  <thead>\n",
              "    <tr style=\"text-align: right;\">\n",
              "      <th></th>\n",
              "      <th>instruction</th>\n",
              "      <th>input</th>\n",
              "      <th>output</th>\n",
              "      <th>text</th>\n",
              "    </tr>\n",
              "  </thead>\n",
              "  <tbody>\n",
              "    <tr>\n",
              "      <th>0</th>\n",
              "      <td>Give three tips for staying healthy.</td>\n",
              "      <td></td>\n",
              "      <td>1.Eat a balanced diet and make sure to include...</td>\n",
              "      <td>Below is an instruction that describes a task....</td>\n",
              "    </tr>\n",
              "    <tr>\n",
              "      <th>1</th>\n",
              "      <td>What are the three primary colors?</td>\n",
              "      <td></td>\n",
              "      <td>The three primary colors are red, blue, and ye...</td>\n",
              "      <td>Below is an instruction that describes a task....</td>\n",
              "    </tr>\n",
              "    <tr>\n",
              "      <th>2</th>\n",
              "      <td>Describe the structure of an atom.</td>\n",
              "      <td></td>\n",
              "      <td>An atom is made up of a nucleus, which contain...</td>\n",
              "      <td>Below is an instruction that describes a task....</td>\n",
              "    </tr>\n",
              "    <tr>\n",
              "      <th>3</th>\n",
              "      <td>How can we reduce air pollution?</td>\n",
              "      <td></td>\n",
              "      <td>There are a number of ways to reduce air pollu...</td>\n",
              "      <td>Below is an instruction that describes a task....</td>\n",
              "    </tr>\n",
              "    <tr>\n",
              "      <th>4</th>\n",
              "      <td>Describe a time when you had to make a difficu...</td>\n",
              "      <td></td>\n",
              "      <td>I had to make a difficult decision when I was ...</td>\n",
              "      <td>Below is an instruction that describes a task....</td>\n",
              "    </tr>\n",
              "  </tbody>\n",
              "</table>\n",
              "</div>"
            ],
            "text/plain": [
              "                                         instruction input  \\\n",
              "0               Give three tips for staying healthy.         \n",
              "1                 What are the three primary colors?         \n",
              "2                 Describe the structure of an atom.         \n",
              "3                   How can we reduce air pollution?         \n",
              "4  Describe a time when you had to make a difficu...         \n",
              "\n",
              "                                              output  \\\n",
              "0  1.Eat a balanced diet and make sure to include...   \n",
              "1  The three primary colors are red, blue, and ye...   \n",
              "2  An atom is made up of a nucleus, which contain...   \n",
              "3  There are a number of ways to reduce air pollu...   \n",
              "4  I had to make a difficult decision when I was ...   \n",
              "\n",
              "                                                text  \n",
              "0  Below is an instruction that describes a task....  \n",
              "1  Below is an instruction that describes a task....  \n",
              "2  Below is an instruction that describes a task....  \n",
              "3  Below is an instruction that describes a task....  \n",
              "4  Below is an instruction that describes a task....  "
            ]
          },
          "metadata": {},
          "output_type": "display_data"
        }
      ],
      "source": [
        "pandas_format = train_dataset.to_pandas()\n",
        "display(pandas_format.head())"
      ]
    },
    {
      "cell_type": "markdown",
      "id": "2b27b917",
      "metadata": {
        "id": "2b27b917"
      },
      "source": [
        "For better visualization, we print the information about the first three rows. Prior to doing that, we install the ***textwrap*** library to set the maximum number of words per line to 50. The first print statement separates each block by 15 dashes."
      ]
    },
    {
      "cell_type": "markdown",
      "id": "edb5c5ee",
      "metadata": {
        "id": "edb5c5ee"
      },
      "source": [
        "- The code begins with a for loop that iterates over a range of 3, meaning it will run three times.\n",
        "- For each iteration, it first prints a line of hyphens to separate the output of each loop.\n",
        "- It then prints the word \"Instruction:\" followed by the value of the \"instruction\" column of the pandas DataFrame at the current index.\n",
        "- The ***textwrap.fill*** function is used to wrap the text at a specified width, in this case, 50 characters.\n",
        "- It then prints the word \"Output:\" followed by the value of the \"output\" column of the DataFrame at the current index.\n",
        "- Again, ***textwrap.fill*** is used to wrap the text at a width of 50 characters.\n",
        "- Finally, it prints the word \"Text:\" followed by the value of the \"text\" column of the DataFrame at the current index.\n",
        "- The ***textwrap.fill*** function is used one last time to wrap the text at a width of 50 characters."
      ]
    },
    {
      "cell_type": "code",
      "execution_count": null,
      "id": "d5b8cd59",
      "metadata": {
        "id": "d5b8cd59",
        "outputId": "0a3b531a-06cb-4822-fc5e-3e2d5815f223"
      },
      "outputs": [
        {
          "name": "stdout",
          "output_type": "stream",
          "text": [
            "/bin/bash: /home/sgangoly/anaconda3/envs/tf/lib/libtinfo.so.6: no version information available (required by /bin/bash)\r\n"
          ]
        }
      ],
      "source": [
        "!pip -q install textwrap3"
      ]
    },
    {
      "cell_type": "code",
      "execution_count": null,
      "id": "29a4b242",
      "metadata": {
        "id": "29a4b242"
      },
      "outputs": [],
      "source": [
        "import textwrap"
      ]
    },
    {
      "cell_type": "code",
      "execution_count": null,
      "id": "bf38d7d9",
      "metadata": {
        "id": "bf38d7d9",
        "outputId": "5c12ee9d-294f-4532-f042-6122b031bf6e"
      },
      "outputs": [
        {
          "name": "stdout",
          "output_type": "stream",
          "text": [
            "---------------------------------------------\n",
            "Instruction: Give three tips for staying healthy.\n",
            "Output: 1.Eat a balanced diet and make sure to include\n",
            "plenty of fruits and vegetables.  2. Exercise\n",
            "regularly to keep your body active and strong.  3.\n",
            "Get enough sleep and maintain a consistent sleep\n",
            "schedule.\n",
            "Text: Below is an instruction that describes a task.\n",
            "Write a response that appropriately completes the\n",
            "request.  ### Instruction: Give three tips for\n",
            "staying healthy.  ### Response: 1.Eat a balanced\n",
            "diet and make sure to include plenty of fruits and\n",
            "vegetables.  2. Exercise regularly to keep your\n",
            "body active and strong.  3. Get enough sleep and\n",
            "maintain a consistent sleep schedule.\n",
            "---------------------------------------------\n",
            "Instruction: What are the three primary colors?\n",
            "Output: The three primary colors are red, blue, and\n",
            "yellow.\n",
            "Text: Below is an instruction that describes a task.\n",
            "Write a response that appropriately completes the\n",
            "request.  ### Instruction: What are the three\n",
            "primary colors?  ### Response: The three primary\n",
            "colors are red, blue, and yellow.\n",
            "---------------------------------------------\n",
            "Instruction: Describe the structure of an atom.\n",
            "Output: An atom is made up of a nucleus, which contains\n",
            "protons and neutrons, surrounded by electrons that\n",
            "travel in orbits around the nucleus. The protons\n",
            "and neutrons have a positive charge, while the\n",
            "electrons have a negative charge, resulting in an\n",
            "overall neutral atom. The number of each particle\n",
            "determines the atomic number and the type of atom.\n",
            "Text: Below is an instruction that describes a task.\n",
            "Write a response that appropriately completes the\n",
            "request.  ### Instruction: Describe the structure\n",
            "of an atom.  ### Response: An atom is made up of a\n",
            "nucleus, which contains protons and neutrons,\n",
            "surrounded by electrons that travel in orbits\n",
            "around the nucleus. The protons and neutrons have\n",
            "a positive charge, while the electrons have a\n",
            "negative charge, resulting in an overall neutral\n",
            "atom. The number of each particle determines the\n",
            "atomic number and the type of atom.\n"
          ]
        }
      ],
      "source": [
        "for index in range(3):\n",
        "  print(\"---\"*15)\n",
        "  print(\"Instruction: {}\".format(textwrap.fill(pandas_format.iloc[index][\"instruction\"], width=50)))\n",
        "  print(\"Output: {}\".format(textwrap.fill(pandas_format.iloc[index][\"output\"], width=50)))\n",
        "  print(\"Text: {}\".format(textwrap.fill(pandas_format.iloc[index][\"text\"], width=50)))"
      ]
    },
    {
      "cell_type": "markdown",
      "id": "bafefe1b",
      "metadata": {
        "id": "bafefe1b"
      },
      "source": [
        "## Model Training ##\n",
        "\n",
        "Before proceeding to train the model, we need to set up some prerequisites:\n",
        "<br>\n",
        "- **Pre-trained Model***: We will use the pre-trained model ***Salesforce/xgen-7b-8k-base***, which is available on **Hugging Face**. Salesforce trained this series of 7B LLMs named XGen-7B with standard dense attention on up to 8K sequences for up to 1.5T tokens.\n",
        "- **Tokenizer**: This is needed for tokenization tasks on the training data. The code to load the pre-trained model and tokenizer is as follows:\n",
        "\n",
        "- The first line sets the variable ***pretrained_model_name*** to the string \"Salesforce/xgen-7b-8k-base\".\n",
        "- The second line uses the ***from_pretrained method*** of ***AutoModelForCausalLM*** to load a pretrained model.\n",
        "- The pretrained model is specified by the ***pretrained_model_name***, and the data type for the model's tensors is set to **torch.bfloat16**.\n",
        "- The third line uses the ***from_pretrained*** method of **AutoTokenizer** to load a tokenizer that matches the pretrained model.\n",
        "- The tokenizer is also specified by the ***pretrained_model_name***, and the ***trust_remote_code*** parameter is set to True."
      ]
    },
    {
      "cell_type": "code",
      "execution_count": null,
      "id": "7bc0cd17",
      "metadata": {
        "id": "7bc0cd17",
        "outputId": "afc1e77d-a64b-4d32-a783-59b13dee5e46"
      },
      "outputs": [
        {
          "name": "stdout",
          "output_type": "stream",
          "text": [
            "/bin/bash: /home/sgangoly/anaconda3/envs/tf/lib/libtinfo.so.6: no version information available (required by /bin/bash)\n",
            "Collecting tiktoken\n",
            "  Downloading tiktoken-0.5.2-cp39-cp39-manylinux_2_17_x86_64.manylinux2014_x86_64.whl (2.0 MB)\n",
            "\u001b[2K     \u001b[38;2;114;156;31m━━━━━━━━━━━━━━━━━━━━━━━━━━━━━━━━━━━━━━━━\u001b[0m \u001b[32m2.0/2.0 MB\u001b[0m \u001b[31m3.6 MB/s\u001b[0m eta \u001b[36m0:00:00\u001b[0mm eta \u001b[36m0:00:01\u001b[0m[36m0:00:01\u001b[0m\n",
            "\u001b[?25hRequirement already satisfied: regex>=2022.1.18 in ./anaconda3/envs/tf/lib/python3.9/site-packages (from tiktoken) (2023.3.23)\n",
            "Requirement already satisfied: requests>=2.26.0 in ./anaconda3/envs/tf/lib/python3.9/site-packages (from tiktoken) (2.28.2)\n",
            "Requirement already satisfied: idna<4,>=2.5 in ./anaconda3/envs/tf/lib/python3.9/site-packages (from requests>=2.26.0->tiktoken) (3.4)\n",
            "Requirement already satisfied: charset-normalizer<4,>=2 in ./anaconda3/envs/tf/lib/python3.9/site-packages (from requests>=2.26.0->tiktoken) (2.1.1)\n",
            "Requirement already satisfied: urllib3<1.27,>=1.21.1 in ./anaconda3/envs/tf/lib/python3.9/site-packages (from requests>=2.26.0->tiktoken) (1.26.13)\n",
            "Requirement already satisfied: certifi>=2017.4.17 in ./anaconda3/envs/tf/lib/python3.9/site-packages (from requests>=2.26.0->tiktoken) (2022.12.7)\n",
            "Installing collected packages: tiktoken\n",
            "Successfully installed tiktoken-0.5.2\n"
          ]
        }
      ],
      "source": [
        "!pip install tiktoken"
      ]
    },
    {
      "cell_type": "code",
      "execution_count": null,
      "id": "ea70ea77",
      "metadata": {
        "id": "ea70ea77",
        "outputId": "197c7de3-1b06-4d23-83f8-15d7bec63bc9",
        "colab": {
          "referenced_widgets": [
            "62f5f86fb681403a937f9e2b235a57bb"
          ]
        }
      },
      "outputs": [
        {
          "data": {
            "application/vnd.jupyter.widget-view+json": {
              "model_id": "62f5f86fb681403a937f9e2b235a57bb",
              "version_major": 2,
              "version_minor": 0
            },
            "text/plain": [
              "Loading checkpoint shards:   0%|          | 0/3 [00:00<?, ?it/s]"
            ]
          },
          "metadata": {},
          "output_type": "display_data"
        }
      ],
      "source": [
        "pretrained_model_name = \"Salesforce/xgen-7b-8k-base\"\n",
        "model = AutoModelForCausalLM.from_pretrained(pretrained_model_name, torch_dtype=torch.bfloat16)\n",
        "tokenizer = AutoTokenizer.from_pretrained(pretrained_model_name, trust_remote_code=True)"
      ]
    },
    {
      "cell_type": "markdown",
      "id": "ca13f933",
      "metadata": {
        "id": "ca13f933"
      },
      "source": [
        "### Training configuration ###\n",
        "The training requires some training arguments and configurations, and the two important configuration objects are defined below, an instance of the **TrainingArguments**, an instance of the **LoraConfig model**, and finally the **SFTTrainer** model.\n",
        "\n",
        "**TrainingArguments** : This is used to define the parameters for model training.\n",
        "\n",
        "In this specific scenario, we start by defining the destination where the trained model will be stored using the *output_dir* attribute before defining additional hyperparameters, such as the *optimization method*, the *learning rate*, the *number of epochs*, and more.\n",
        "<br>\n",
        "\n",
        "- This code is creating an instance of the TrainingArguments class with specific parameters.\n",
        "- **output_dir=\"xgen-7b-8k-base-fine-tuned\"** sets the directory where the model and its outputs will be saved.\n",
        "- **per_device_train_batch_size=4** sets the number of training examples utilized in one iteration.\n",
        "- **optim=\"adamw_torch\"** sets the optimizer to be used during training to AdamW from the PyTorch library.\n",
        "- **logging_steps=80** sets the frequency of logging steps, i.e., logs will be printed every 80 steps.\n",
        "- **learning_rate=2e-4** sets the learning rate for the optimizer.\n",
        "- **warmup_ratio=0.1** sets the ratio of total steps for which linear warmup will be performed.\n",
        "- **lr_scheduler_type=\"linear\"** sets the learning rate scheduler to linear.\n",
        "- **num_train_epochs=1** sets the number of times the learning algorithm will work through the entire training dataset.\n",
        "- **save_strategy=\"epoch\"** sets the strategy to save checkpoints, in this case, at the end of each epoch."
      ]
    },
    {
      "cell_type": "code",
      "execution_count": null,
      "id": "baae3c73",
      "metadata": {
        "id": "baae3c73"
      },
      "outputs": [],
      "source": [
        "model_training_args = TrainingArguments(\n",
        "       output_dir=\"xgen-7b-8k-base-fine-tuned\",\n",
        "       per_device_train_batch_size=4,\n",
        "       optim=\"adamw_torch\",\n",
        "       logging_steps=80,\n",
        "       learning_rate=2e-4,\n",
        "       warmup_ratio=0.1,\n",
        "       lr_scheduler_type=\"linear\",\n",
        "       num_train_epochs=1,\n",
        "       save_strategy=\"epoch\"\n",
        "   )"
      ]
    },
    {
      "cell_type": "markdown",
      "id": "f6610c24",
      "metadata": {
        "id": "f6610c24"
      },
      "source": [
        "### LoRAConfig ###\n",
        "The main arguments used for this scenario are the rank of the low-rank transformation matrix in LoRA, which is set to 16. Then, the scaling factor for the additional parameters in LoRA is set to 32.\n",
        "<br>\n",
        "The dropout ratio is 0.05, meaning that 5% of the input units will be ignored during the training. Finally, since we are dealing with a causual language modeling, the task is hence initialized with the **CAUSAL_LM attribute**.\n",
        "\n",
        "### SFTTrainer ###\n",
        "This aims to train the model using the training data, the tokenizer, and additional information such as the above models.\n",
        "\n",
        "Since we are using the text field from the training data, it is important to have a look at the distribution in order to help in setting the maximum number of tokens in a given sequence.\n",
        "<br>\n",
        "\n",
        "- The code starts by importing the matplotlib.pyplot library, which is used for data visualization.\n",
        "- The second line adds a new column 'text_length' to the pandas dataframe 'pandas_format'.\n",
        "- This column contains the length of each text in the 'text' column.\n",
        "- 'plt.figure(figsize=(10,6))' sets the size of the figure to be created.\n",
        "- 'plt.hist()' creates a histogram of the 'text_length' column with 50 bins, semi-transparent and green in color.\n",
        "- 'plt.title()', 'plt.xlabel()', and 'plt.ylabel()' label the plot's title, x-axis, and y-axis respectively.\n",
        "- 'plt.grid(True)' adds a grid to the plot for better readability.\n",
        "- Finally, 'plt.show()' displays the plot."
      ]
    },
    {
      "cell_type": "code",
      "execution_count": null,
      "id": "8a1324f9",
      "metadata": {
        "id": "8a1324f9",
        "outputId": "170c6c2b-4b2b-4b4b-abcc-78ef283fa2d5"
      },
      "outputs": [
        {
          "data": {
            "image/png": "[encoded data removed]",
            "text/plain": [
              "<Figure size 1000x600 with 1 Axes>"
            ]
          },
          "metadata": {},
          "output_type": "display_data"
        }
      ],
      "source": [
        "import matplotlib.pyplot as plt\n",
        "\n",
        "\n",
        "pandas_format['text_length'] = pandas_format['text'].apply(len)\n",
        "\n",
        "\n",
        "plt.figure(figsize=(10,6))\n",
        "plt.hist(pandas_format['text_length'], bins=50, alpha=0.5, color='g')\n",
        "plt.title('Distribution of Length of Text')\n",
        "plt.xlabel('Length of Text')\n",
        "plt.ylabel('Frequency')\n",
        "plt.grid(True)\n",
        "plt.show()"
      ]
    },
    {
      "cell_type": "markdown",
      "id": "a7b4225f",
      "metadata": {
        "id": "a7b4225f"
      },
      "source": [
        "Based on the above observation, we can see that the majority of text has a length between 0 and 1000. Also, we can see below that only 4.5% percent of the text documents have a length greater than 1024.\n",
        "\n",
        "<br>\n",
        "\n",
        "- The code uses the pandas library to analyze a DataFrame named 'pandas_format'.\n",
        "- 'mask' is a boolean Series where each value is True if the corresponding 'text_length' is greater than 1024.\n",
        "- 'mask.sum()' counts the number of True values (i.e., text lengths greater than 1024).\n",
        "- 'pandas_format['text_length'].count()' gets the total number of 'text_length' entries in the DataFrame.\n",
        "- 'percentage' calculates the percentage of 'text_length' values that are greater than 1024.\n",
        "- The final line prints this percentage, formatted as a string."
      ]
    },
    {
      "cell_type": "code",
      "execution_count": null,
      "id": "65224992",
      "metadata": {
        "id": "65224992",
        "outputId": "435eaef7-77d3-450d-94fe-9313625d2f7f"
      },
      "outputs": [
        {
          "name": "stdout",
          "output_type": "stream",
          "text": [
            "The percentage of text documents with a length greater than 1024 is: 4.499826929733472%\n"
          ]
        }
      ],
      "source": [
        "mask = pandas_format['text_length'] > 1024\n",
        "percentage = (mask.sum() / pandas_format['text_length'].count()) * 100\n",
        "\n",
        "\n",
        "print(f\"The percentage of text documents with a length greater than 1024 is: {percentage}%\")\n"
      ]
    },
    {
      "cell_type": "markdown",
      "id": "bc6b1077",
      "metadata": {
        "id": "bc6b1077"
      },
      "source": [
        "Then we set the maximum number of tokens in the sequence to 1024 so that any text longer than this get truncated."
      ]
    },
    {
      "cell_type": "markdown",
      "id": "2d697a3b",
      "metadata": {
        "id": "2d697a3b"
      },
      "source": [
        "- This code snippet creates an instance of the SFTTrainer class.\n",
        "- **model=model** is passing a pre-defined model to the trainer.\n",
        "- **train_dataset=train_dataset** is passing the training data to the trainer.\n",
        "- **dataset_text_field=\"text\"** specifies the field in the dataset that contains the text data.\n",
        "- **max_seq_length=1024** sets the maximum sequence length for the model's input data.\n",
        "- **tokenizer=tokenizer** is passing a pre-defined tokenizer to the trainer.\n",
        "- **args=model_training_args** is passing a set of arguments for model training.\n",
        "- **packing=True** enables packing of the sequences for efficient training.\n",
        "- **peft_config=lora_peft_config** is passing a configuration for the PEFT algorithm."
      ]
    },
    {
      "cell_type": "code",
      "execution_count": null,
      "id": "2cd87e13",
      "metadata": {
        "id": "2cd87e13",
        "outputId": "5f66c18c-958b-4d9d-90c5-2d477d03752b",
        "colab": {
          "referenced_widgets": [
            "14951c77e1f945ba8a9844391b321d51"
          ]
        }
      },
      "outputs": [
        {
          "data": {
            "application/vnd.jupyter.widget-view+json": {
              "model_id": "14951c77e1f945ba8a9844391b321d51",
              "version_major": 2,
              "version_minor": 0
            },
            "text/plain": [
              "Generating train split: 0 examples [00:00, ? examples/s]"
            ]
          },
          "metadata": {},
          "output_type": "display_data"
        },
        {
          "ename": "OutOfMemoryError",
          "evalue": "CUDA out of memory. Tried to allocate 32.00 MiB (GPU 0; 3.81 GiB total capacity; 3.15 GiB already allocated; 22.62 MiB free; 3.17 GiB reserved in total by PyTorch) If reserved memory is >> allocated memory try setting max_split_size_mb to avoid fragmentation.  See documentation for Memory Management and PYTORCH_CUDA_ALLOC_CONF",
          "output_type": "error",
          "traceback": [
            "\u001b[0;31m---------------------------------------------------------------------------\u001b[0m",
            "\u001b[0;31mOutOfMemoryError\u001b[0m                          Traceback (most recent call last)",
            "Cell \u001b[0;32mIn[29], line 3\u001b[0m\n\u001b[1;32m      1\u001b[0m lora_peft_config \u001b[38;5;241m=\u001b[39m LoraConfig(r\u001b[38;5;241m=\u001b[39m\u001b[38;5;241m16\u001b[39m, lora_alpha\u001b[38;5;241m=\u001b[39m\u001b[38;5;241m32\u001b[39m, lora_dropout\u001b[38;5;241m=\u001b[39m\u001b[38;5;241m0.05\u001b[39m, task_type\u001b[38;5;241m=\u001b[39m\u001b[38;5;124m\"\u001b[39m\u001b[38;5;124mCAUSAL_LM\u001b[39m\u001b[38;5;124m\"\u001b[39m)\n\u001b[0;32m----> 3\u001b[0m SFT_trainer \u001b[38;5;241m=\u001b[39m \u001b[43mSFTTrainer\u001b[49m\u001b[43m(\u001b[49m\n\u001b[1;32m      4\u001b[0m \u001b[43m        \u001b[49m\u001b[43mmodel\u001b[49m\u001b[38;5;241;43m=\u001b[39;49m\u001b[43mmodel\u001b[49m\u001b[43m,\u001b[49m\n\u001b[1;32m      5\u001b[0m \u001b[43m        \u001b[49m\u001b[43mtrain_dataset\u001b[49m\u001b[38;5;241;43m=\u001b[39;49m\u001b[43mtrain_dataset\u001b[49m\u001b[43m,\u001b[49m\n\u001b[1;32m      6\u001b[0m \u001b[43m        \u001b[49m\u001b[43mdataset_text_field\u001b[49m\u001b[38;5;241;43m=\u001b[39;49m\u001b[38;5;124;43m\"\u001b[39;49m\u001b[38;5;124;43mtext\u001b[39;49m\u001b[38;5;124;43m\"\u001b[39;49m\u001b[43m,\u001b[49m\n\u001b[1;32m      7\u001b[0m \u001b[43m        \u001b[49m\u001b[43mmax_seq_length\u001b[49m\u001b[38;5;241;43m=\u001b[39;49m\u001b[38;5;241;43m1024\u001b[39;49m\u001b[43m,\u001b[49m\n\u001b[1;32m      8\u001b[0m \u001b[43m        \u001b[49m\u001b[43mtokenizer\u001b[49m\u001b[38;5;241;43m=\u001b[39;49m\u001b[43mtokenizer\u001b[49m\u001b[43m,\u001b[49m\n\u001b[1;32m      9\u001b[0m \u001b[43m        \u001b[49m\u001b[43margs\u001b[49m\u001b[38;5;241;43m=\u001b[39;49m\u001b[43mmodel_training_args\u001b[49m\u001b[43m,\u001b[49m\n\u001b[1;32m     10\u001b[0m \u001b[43m        \u001b[49m\u001b[43mpacking\u001b[49m\u001b[38;5;241;43m=\u001b[39;49m\u001b[38;5;28;43;01mTrue\u001b[39;49;00m\u001b[43m,\u001b[49m\n\u001b[1;32m     11\u001b[0m \u001b[43m        \u001b[49m\u001b[43mpeft_config\u001b[49m\u001b[38;5;241;43m=\u001b[39;49m\u001b[43mlora_peft_config\u001b[49m\u001b[43m,\u001b[49m\n\u001b[1;32m     12\u001b[0m \u001b[43m    \u001b[49m\u001b[43m)\u001b[49m\n",
            "File \u001b[0;32m~/anaconda3/envs/tf/lib/python3.9/site-packages/trl/trainer/sft_trainer.py:287\u001b[0m, in \u001b[0;36mSFTTrainer.__init__\u001b[0;34m(self, model, args, data_collator, train_dataset, eval_dataset, tokenizer, model_init, compute_metrics, callbacks, optimizers, preprocess_logits_for_metrics, peft_config, dataset_text_field, packing, formatting_func, max_seq_length, infinite, num_of_sequences, chars_per_token, dataset_num_proc, dataset_batch_size, neftune_noise_alpha, model_init_kwargs, dataset_kwargs)\u001b[0m\n\u001b[1;32m    281\u001b[0m \u001b[38;5;28;01mif\u001b[39;00m tokenizer\u001b[38;5;241m.\u001b[39mpadding_side \u001b[38;5;129;01mis\u001b[39;00m \u001b[38;5;129;01mnot\u001b[39;00m \u001b[38;5;28;01mNone\u001b[39;00m \u001b[38;5;129;01mand\u001b[39;00m tokenizer\u001b[38;5;241m.\u001b[39mpadding_side \u001b[38;5;241m!=\u001b[39m \u001b[38;5;124m\"\u001b[39m\u001b[38;5;124mright\u001b[39m\u001b[38;5;124m\"\u001b[39m:\n\u001b[1;32m    282\u001b[0m     warnings\u001b[38;5;241m.\u001b[39mwarn(\n\u001b[1;32m    283\u001b[0m         \u001b[38;5;124m\"\u001b[39m\u001b[38;5;124mYou passed a tokenizer with `padding_side` not equal to `right` to the SFTTrainer. This might lead to some unexpected behaviour due to \u001b[39m\u001b[38;5;124m\"\u001b[39m\n\u001b[1;32m    284\u001b[0m         \u001b[38;5;124m\"\u001b[39m\u001b[38;5;124moverflow issues when training a model in half-precision. You might consider adding `tokenizer.padding_side = \u001b[39m\u001b[38;5;124m'\u001b[39m\u001b[38;5;124mright\u001b[39m\u001b[38;5;124m'\u001b[39m\u001b[38;5;124m` to your code.\u001b[39m\u001b[38;5;124m\"\u001b[39m\n\u001b[1;32m    285\u001b[0m     )\n\u001b[0;32m--> 287\u001b[0m \u001b[38;5;28;43msuper\u001b[39;49m\u001b[43m(\u001b[49m\u001b[43m)\u001b[49m\u001b[38;5;241;43m.\u001b[39;49m\u001b[38;5;21;43m__init__\u001b[39;49m\u001b[43m(\u001b[49m\n\u001b[1;32m    288\u001b[0m \u001b[43m    \u001b[49m\u001b[43mmodel\u001b[49m\u001b[38;5;241;43m=\u001b[39;49m\u001b[43mmodel\u001b[49m\u001b[43m,\u001b[49m\n\u001b[1;32m    289\u001b[0m \u001b[43m    \u001b[49m\u001b[43margs\u001b[49m\u001b[38;5;241;43m=\u001b[39;49m\u001b[43margs\u001b[49m\u001b[43m,\u001b[49m\n\u001b[1;32m    290\u001b[0m \u001b[43m    \u001b[49m\u001b[43mdata_collator\u001b[49m\u001b[38;5;241;43m=\u001b[39;49m\u001b[43mdata_collator\u001b[49m\u001b[43m,\u001b[49m\n\u001b[1;32m    291\u001b[0m \u001b[43m    \u001b[49m\u001b[43mtrain_dataset\u001b[49m\u001b[38;5;241;43m=\u001b[39;49m\u001b[43mtrain_dataset\u001b[49m\u001b[43m,\u001b[49m\n\u001b[1;32m    292\u001b[0m \u001b[43m    \u001b[49m\u001b[43meval_dataset\u001b[49m\u001b[38;5;241;43m=\u001b[39;49m\u001b[43meval_dataset\u001b[49m\u001b[43m,\u001b[49m\n\u001b[1;32m    293\u001b[0m \u001b[43m    \u001b[49m\u001b[43mtokenizer\u001b[49m\u001b[38;5;241;43m=\u001b[39;49m\u001b[43mtokenizer\u001b[49m\u001b[43m,\u001b[49m\n\u001b[1;32m    294\u001b[0m \u001b[43m    \u001b[49m\u001b[43mmodel_init\u001b[49m\u001b[38;5;241;43m=\u001b[39;49m\u001b[43mmodel_init\u001b[49m\u001b[43m,\u001b[49m\n\u001b[1;32m    295\u001b[0m \u001b[43m    \u001b[49m\u001b[43mcompute_metrics\u001b[49m\u001b[38;5;241;43m=\u001b[39;49m\u001b[43mcompute_metrics\u001b[49m\u001b[43m,\u001b[49m\n\u001b[1;32m    296\u001b[0m \u001b[43m    \u001b[49m\u001b[43mcallbacks\u001b[49m\u001b[38;5;241;43m=\u001b[39;49m\u001b[43mcallbacks\u001b[49m\u001b[43m,\u001b[49m\n\u001b[1;32m    297\u001b[0m \u001b[43m    \u001b[49m\u001b[43moptimizers\u001b[49m\u001b[38;5;241;43m=\u001b[39;49m\u001b[43moptimizers\u001b[49m\u001b[43m,\u001b[49m\n\u001b[1;32m    298\u001b[0m \u001b[43m    \u001b[49m\u001b[43mpreprocess_logits_for_metrics\u001b[49m\u001b[38;5;241;43m=\u001b[39;49m\u001b[43mpreprocess_logits_for_metrics\u001b[49m\u001b[43m,\u001b[49m\n\u001b[1;32m    299\u001b[0m \u001b[43m\u001b[49m\u001b[43m)\u001b[49m\n\u001b[1;32m    301\u001b[0m \u001b[38;5;28;01mif\u001b[39;00m \u001b[38;5;28mself\u001b[39m\u001b[38;5;241m.\u001b[39margs\u001b[38;5;241m.\u001b[39mmax_steps \u001b[38;5;241m>\u001b[39m \u001b[38;5;241m0\u001b[39m \u001b[38;5;129;01mand\u001b[39;00m packing:\n\u001b[1;32m    302\u001b[0m     warnings\u001b[38;5;241m.\u001b[39mwarn(\n\u001b[1;32m    303\u001b[0m         \u001b[38;5;124m\"\u001b[39m\u001b[38;5;124mYou passed `packing=True` to the SFTTrainer, and you are training your model with `max_steps` strategy. The dataset will be iterated until the `max_steps` are reached.\u001b[39m\u001b[38;5;124m\"\u001b[39m\n\u001b[1;32m    304\u001b[0m     )\n",
            "File \u001b[0;32m~/anaconda3/envs/tf/lib/python3.9/site-packages/transformers/trainer.py:456\u001b[0m, in \u001b[0;36mTrainer.__init__\u001b[0;34m(self, model, args, data_collator, train_dataset, eval_dataset, tokenizer, model_init, compute_metrics, callbacks, optimizers, preprocess_logits_for_metrics)\u001b[0m\n\u001b[1;32m    451\u001b[0m \u001b[38;5;66;03m# Bnb Quantized models doesn't support `.to` operation.\u001b[39;00m\n\u001b[1;32m    452\u001b[0m \u001b[38;5;28;01mif\u001b[39;00m (\n\u001b[1;32m    453\u001b[0m     \u001b[38;5;28mself\u001b[39m\u001b[38;5;241m.\u001b[39mplace_model_on_device\n\u001b[1;32m    454\u001b[0m     \u001b[38;5;129;01mand\u001b[39;00m \u001b[38;5;129;01mnot\u001b[39;00m \u001b[38;5;28mgetattr\u001b[39m(model, \u001b[38;5;124m\"\u001b[39m\u001b[38;5;124mquantization_method\u001b[39m\u001b[38;5;124m\"\u001b[39m, \u001b[38;5;28;01mNone\u001b[39;00m) \u001b[38;5;241m==\u001b[39m QuantizationMethod\u001b[38;5;241m.\u001b[39mBITS_AND_BYTES\n\u001b[1;32m    455\u001b[0m ):\n\u001b[0;32m--> 456\u001b[0m     \u001b[38;5;28;43mself\u001b[39;49m\u001b[38;5;241;43m.\u001b[39;49m\u001b[43m_move_model_to_device\u001b[49m\u001b[43m(\u001b[49m\u001b[43mmodel\u001b[49m\u001b[43m,\u001b[49m\u001b[43m \u001b[49m\u001b[43margs\u001b[49m\u001b[38;5;241;43m.\u001b[39;49m\u001b[43mdevice\u001b[49m\u001b[43m)\u001b[49m\n\u001b[1;32m    458\u001b[0m \u001b[38;5;66;03m# Force n_gpu to 1 to avoid DataParallel as MP will manage the GPUs\u001b[39;00m\n\u001b[1;32m    459\u001b[0m \u001b[38;5;28;01mif\u001b[39;00m \u001b[38;5;28mself\u001b[39m\u001b[38;5;241m.\u001b[39mis_model_parallel:\n",
            "File \u001b[0;32m~/anaconda3/envs/tf/lib/python3.9/site-packages/transformers/trainer.py:690\u001b[0m, in \u001b[0;36mTrainer._move_model_to_device\u001b[0;34m(self, model, device)\u001b[0m\n\u001b[1;32m    689\u001b[0m \u001b[38;5;28;01mdef\u001b[39;00m \u001b[38;5;21m_move_model_to_device\u001b[39m(\u001b[38;5;28mself\u001b[39m, model, device):\n\u001b[0;32m--> 690\u001b[0m     model \u001b[38;5;241m=\u001b[39m \u001b[43mmodel\u001b[49m\u001b[38;5;241;43m.\u001b[39;49m\u001b[43mto\u001b[49m\u001b[43m(\u001b[49m\u001b[43mdevice\u001b[49m\u001b[43m)\u001b[49m\n\u001b[1;32m    691\u001b[0m     \u001b[38;5;66;03m# Moving a model to an XLA device disconnects the tied weights, so we have to retie them.\u001b[39;00m\n\u001b[1;32m    692\u001b[0m     \u001b[38;5;28;01mif\u001b[39;00m \u001b[38;5;28mself\u001b[39m\u001b[38;5;241m.\u001b[39margs\u001b[38;5;241m.\u001b[39mparallel_mode \u001b[38;5;241m==\u001b[39m ParallelMode\u001b[38;5;241m.\u001b[39mTPU \u001b[38;5;129;01mand\u001b[39;00m \u001b[38;5;28mhasattr\u001b[39m(model, \u001b[38;5;124m\"\u001b[39m\u001b[38;5;124mtie_weights\u001b[39m\u001b[38;5;124m\"\u001b[39m):\n",
            "File \u001b[0;32m~/anaconda3/envs/tf/lib/python3.9/site-packages/torch/nn/modules/module.py:1145\u001b[0m, in \u001b[0;36mModule.to\u001b[0;34m(self, *args, **kwargs)\u001b[0m\n\u001b[1;32m   1141\u001b[0m         \u001b[38;5;28;01mreturn\u001b[39;00m t\u001b[38;5;241m.\u001b[39mto(device, dtype \u001b[38;5;28;01mif\u001b[39;00m t\u001b[38;5;241m.\u001b[39mis_floating_point() \u001b[38;5;129;01mor\u001b[39;00m t\u001b[38;5;241m.\u001b[39mis_complex() \u001b[38;5;28;01melse\u001b[39;00m \u001b[38;5;28;01mNone\u001b[39;00m,\n\u001b[1;32m   1142\u001b[0m                     non_blocking, memory_format\u001b[38;5;241m=\u001b[39mconvert_to_format)\n\u001b[1;32m   1143\u001b[0m     \u001b[38;5;28;01mreturn\u001b[39;00m t\u001b[38;5;241m.\u001b[39mto(device, dtype \u001b[38;5;28;01mif\u001b[39;00m t\u001b[38;5;241m.\u001b[39mis_floating_point() \u001b[38;5;129;01mor\u001b[39;00m t\u001b[38;5;241m.\u001b[39mis_complex() \u001b[38;5;28;01melse\u001b[39;00m \u001b[38;5;28;01mNone\u001b[39;00m, non_blocking)\n\u001b[0;32m-> 1145\u001b[0m \u001b[38;5;28;01mreturn\u001b[39;00m \u001b[38;5;28;43mself\u001b[39;49m\u001b[38;5;241;43m.\u001b[39;49m\u001b[43m_apply\u001b[49m\u001b[43m(\u001b[49m\u001b[43mconvert\u001b[49m\u001b[43m)\u001b[49m\n",
            "File \u001b[0;32m~/anaconda3/envs/tf/lib/python3.9/site-packages/torch/nn/modules/module.py:797\u001b[0m, in \u001b[0;36mModule._apply\u001b[0;34m(self, fn)\u001b[0m\n\u001b[1;32m    795\u001b[0m \u001b[38;5;28;01mdef\u001b[39;00m \u001b[38;5;21m_apply\u001b[39m(\u001b[38;5;28mself\u001b[39m, fn):\n\u001b[1;32m    796\u001b[0m     \u001b[38;5;28;01mfor\u001b[39;00m module \u001b[38;5;129;01min\u001b[39;00m \u001b[38;5;28mself\u001b[39m\u001b[38;5;241m.\u001b[39mchildren():\n\u001b[0;32m--> 797\u001b[0m         \u001b[43mmodule\u001b[49m\u001b[38;5;241;43m.\u001b[39;49m\u001b[43m_apply\u001b[49m\u001b[43m(\u001b[49m\u001b[43mfn\u001b[49m\u001b[43m)\u001b[49m\n\u001b[1;32m    799\u001b[0m     \u001b[38;5;28;01mdef\u001b[39;00m \u001b[38;5;21mcompute_should_use_set_data\u001b[39m(tensor, tensor_applied):\n\u001b[1;32m    800\u001b[0m         \u001b[38;5;28;01mif\u001b[39;00m torch\u001b[38;5;241m.\u001b[39m_has_compatible_shallow_copy_type(tensor, tensor_applied):\n\u001b[1;32m    801\u001b[0m             \u001b[38;5;66;03m# If the new tensor has compatible tensor type as the existing tensor,\u001b[39;00m\n\u001b[1;32m    802\u001b[0m             \u001b[38;5;66;03m# the current behavior is to change the tensor in-place using `.data =`,\u001b[39;00m\n\u001b[0;32m   (...)\u001b[0m\n\u001b[1;32m    807\u001b[0m             \u001b[38;5;66;03m# global flag to let the user control whether they want the future\u001b[39;00m\n\u001b[1;32m    808\u001b[0m             \u001b[38;5;66;03m# behavior of overwriting the existing tensor or not.\u001b[39;00m\n",
            "File \u001b[0;32m~/anaconda3/envs/tf/lib/python3.9/site-packages/torch/nn/modules/module.py:797\u001b[0m, in \u001b[0;36mModule._apply\u001b[0;34m(self, fn)\u001b[0m\n\u001b[1;32m    795\u001b[0m \u001b[38;5;28;01mdef\u001b[39;00m \u001b[38;5;21m_apply\u001b[39m(\u001b[38;5;28mself\u001b[39m, fn):\n\u001b[1;32m    796\u001b[0m     \u001b[38;5;28;01mfor\u001b[39;00m module \u001b[38;5;129;01min\u001b[39;00m \u001b[38;5;28mself\u001b[39m\u001b[38;5;241m.\u001b[39mchildren():\n\u001b[0;32m--> 797\u001b[0m         \u001b[43mmodule\u001b[49m\u001b[38;5;241;43m.\u001b[39;49m\u001b[43m_apply\u001b[49m\u001b[43m(\u001b[49m\u001b[43mfn\u001b[49m\u001b[43m)\u001b[49m\n\u001b[1;32m    799\u001b[0m     \u001b[38;5;28;01mdef\u001b[39;00m \u001b[38;5;21mcompute_should_use_set_data\u001b[39m(tensor, tensor_applied):\n\u001b[1;32m    800\u001b[0m         \u001b[38;5;28;01mif\u001b[39;00m torch\u001b[38;5;241m.\u001b[39m_has_compatible_shallow_copy_type(tensor, tensor_applied):\n\u001b[1;32m    801\u001b[0m             \u001b[38;5;66;03m# If the new tensor has compatible tensor type as the existing tensor,\u001b[39;00m\n\u001b[1;32m    802\u001b[0m             \u001b[38;5;66;03m# the current behavior is to change the tensor in-place using `.data =`,\u001b[39;00m\n\u001b[0;32m   (...)\u001b[0m\n\u001b[1;32m    807\u001b[0m             \u001b[38;5;66;03m# global flag to let the user control whether they want the future\u001b[39;00m\n\u001b[1;32m    808\u001b[0m             \u001b[38;5;66;03m# behavior of overwriting the existing tensor or not.\u001b[39;00m\n",
            "    \u001b[0;31m[... skipping similar frames: Module._apply at line 797 (4 times)]\u001b[0m\n",
            "File \u001b[0;32m~/anaconda3/envs/tf/lib/python3.9/site-packages/torch/nn/modules/module.py:797\u001b[0m, in \u001b[0;36mModule._apply\u001b[0;34m(self, fn)\u001b[0m\n\u001b[1;32m    795\u001b[0m \u001b[38;5;28;01mdef\u001b[39;00m \u001b[38;5;21m_apply\u001b[39m(\u001b[38;5;28mself\u001b[39m, fn):\n\u001b[1;32m    796\u001b[0m     \u001b[38;5;28;01mfor\u001b[39;00m module \u001b[38;5;129;01min\u001b[39;00m \u001b[38;5;28mself\u001b[39m\u001b[38;5;241m.\u001b[39mchildren():\n\u001b[0;32m--> 797\u001b[0m         \u001b[43mmodule\u001b[49m\u001b[38;5;241;43m.\u001b[39;49m\u001b[43m_apply\u001b[49m\u001b[43m(\u001b[49m\u001b[43mfn\u001b[49m\u001b[43m)\u001b[49m\n\u001b[1;32m    799\u001b[0m     \u001b[38;5;28;01mdef\u001b[39;00m \u001b[38;5;21mcompute_should_use_set_data\u001b[39m(tensor, tensor_applied):\n\u001b[1;32m    800\u001b[0m         \u001b[38;5;28;01mif\u001b[39;00m torch\u001b[38;5;241m.\u001b[39m_has_compatible_shallow_copy_type(tensor, tensor_applied):\n\u001b[1;32m    801\u001b[0m             \u001b[38;5;66;03m# If the new tensor has compatible tensor type as the existing tensor,\u001b[39;00m\n\u001b[1;32m    802\u001b[0m             \u001b[38;5;66;03m# the current behavior is to change the tensor in-place using `.data =`,\u001b[39;00m\n\u001b[0;32m   (...)\u001b[0m\n\u001b[1;32m    807\u001b[0m             \u001b[38;5;66;03m# global flag to let the user control whether they want the future\u001b[39;00m\n\u001b[1;32m    808\u001b[0m             \u001b[38;5;66;03m# behavior of overwriting the existing tensor or not.\u001b[39;00m\n",
            "File \u001b[0;32m~/anaconda3/envs/tf/lib/python3.9/site-packages/torch/nn/modules/module.py:820\u001b[0m, in \u001b[0;36mModule._apply\u001b[0;34m(self, fn)\u001b[0m\n\u001b[1;32m    816\u001b[0m \u001b[38;5;66;03m# Tensors stored in modules are graph leaves, and we don't want to\u001b[39;00m\n\u001b[1;32m    817\u001b[0m \u001b[38;5;66;03m# track autograd history of `param_applied`, so we have to use\u001b[39;00m\n\u001b[1;32m    818\u001b[0m \u001b[38;5;66;03m# `with torch.no_grad():`\u001b[39;00m\n\u001b[1;32m    819\u001b[0m \u001b[38;5;28;01mwith\u001b[39;00m torch\u001b[38;5;241m.\u001b[39mno_grad():\n\u001b[0;32m--> 820\u001b[0m     param_applied \u001b[38;5;241m=\u001b[39m \u001b[43mfn\u001b[49m\u001b[43m(\u001b[49m\u001b[43mparam\u001b[49m\u001b[43m)\u001b[49m\n\u001b[1;32m    821\u001b[0m should_use_set_data \u001b[38;5;241m=\u001b[39m compute_should_use_set_data(param, param_applied)\n\u001b[1;32m    822\u001b[0m \u001b[38;5;28;01mif\u001b[39;00m should_use_set_data:\n",
            "File \u001b[0;32m~/anaconda3/envs/tf/lib/python3.9/site-packages/torch/nn/modules/module.py:1143\u001b[0m, in \u001b[0;36mModule.to.<locals>.convert\u001b[0;34m(t)\u001b[0m\n\u001b[1;32m   1140\u001b[0m \u001b[38;5;28;01mif\u001b[39;00m convert_to_format \u001b[38;5;129;01mis\u001b[39;00m \u001b[38;5;129;01mnot\u001b[39;00m \u001b[38;5;28;01mNone\u001b[39;00m \u001b[38;5;129;01mand\u001b[39;00m t\u001b[38;5;241m.\u001b[39mdim() \u001b[38;5;129;01min\u001b[39;00m (\u001b[38;5;241m4\u001b[39m, \u001b[38;5;241m5\u001b[39m):\n\u001b[1;32m   1141\u001b[0m     \u001b[38;5;28;01mreturn\u001b[39;00m t\u001b[38;5;241m.\u001b[39mto(device, dtype \u001b[38;5;28;01mif\u001b[39;00m t\u001b[38;5;241m.\u001b[39mis_floating_point() \u001b[38;5;129;01mor\u001b[39;00m t\u001b[38;5;241m.\u001b[39mis_complex() \u001b[38;5;28;01melse\u001b[39;00m \u001b[38;5;28;01mNone\u001b[39;00m,\n\u001b[1;32m   1142\u001b[0m                 non_blocking, memory_format\u001b[38;5;241m=\u001b[39mconvert_to_format)\n\u001b[0;32m-> 1143\u001b[0m \u001b[38;5;28;01mreturn\u001b[39;00m \u001b[43mt\u001b[49m\u001b[38;5;241;43m.\u001b[39;49m\u001b[43mto\u001b[49m\u001b[43m(\u001b[49m\u001b[43mdevice\u001b[49m\u001b[43m,\u001b[49m\u001b[43m \u001b[49m\u001b[43mdtype\u001b[49m\u001b[43m \u001b[49m\u001b[38;5;28;43;01mif\u001b[39;49;00m\u001b[43m \u001b[49m\u001b[43mt\u001b[49m\u001b[38;5;241;43m.\u001b[39;49m\u001b[43mis_floating_point\u001b[49m\u001b[43m(\u001b[49m\u001b[43m)\u001b[49m\u001b[43m \u001b[49m\u001b[38;5;129;43;01mor\u001b[39;49;00m\u001b[43m \u001b[49m\u001b[43mt\u001b[49m\u001b[38;5;241;43m.\u001b[39;49m\u001b[43mis_complex\u001b[49m\u001b[43m(\u001b[49m\u001b[43m)\u001b[49m\u001b[43m \u001b[49m\u001b[38;5;28;43;01melse\u001b[39;49;00m\u001b[43m \u001b[49m\u001b[38;5;28;43;01mNone\u001b[39;49;00m\u001b[43m,\u001b[49m\u001b[43m \u001b[49m\u001b[43mnon_blocking\u001b[49m\u001b[43m)\u001b[49m\n",
            "\u001b[0;31mOutOfMemoryError\u001b[0m: CUDA out of memory. Tried to allocate 32.00 MiB (GPU 0; 3.81 GiB total capacity; 3.15 GiB already allocated; 22.62 MiB free; 3.17 GiB reserved in total by PyTorch) If reserved memory is >> allocated memory try setting max_split_size_mb to avoid fragmentation.  See documentation for Memory Management and PYTORCH_CUDA_ALLOC_CONF"
          ]
        }
      ],
      "source": [
        "lora_peft_config = LoraConfig(r=16, lora_alpha=32, lora_dropout=0.05, task_type=\"CAUSAL_LM\")\n",
        "\n",
        "SFT_trainer = SFTTrainer(\n",
        "        model=model,\n",
        "        train_dataset=train_dataset,\n",
        "        dataset_text_field=\"text\",\n",
        "        max_seq_length=1024,\n",
        "        tokenizer=tokenizer,\n",
        "        args=model_training_args,\n",
        "        packing=True,\n",
        "        peft_config=lora_peft_config,\n",
        "    )"
      ]
    },
    {
      "cell_type": "markdown",
      "id": "64816175",
      "metadata": {
        "id": "64816175"
      },
      "source": [
        "### Training execution ###\n",
        "With all the prerequisites in place, we can now run the training process of the model as follows:\n",
        "- The first line sets the padding token of the tokenizer to be the same as the end-of-sentence (eos) token.\n",
        "- The second line resizes the token embeddings of the model to match the length of the tokenizer's vocabulary.\n",
        "- The third line prepares the model for INT8 training, which is a form of quantization that reduces memory usage.\n",
        "- The fourth line gets a model that is configured for PEFT (Performance Evaluation and Forecasting Tool) using a specific configuration.\n",
        "- The fifth line assigns the model training arguments to a variable called training_args.\n",
        "- The sixth line assigns the SFT (Supervised Fine-Tuning) trainer to a variable called trainer.\n",
        "- The final line calls the train method of the trainer to start the training process."
      ]
    },
    {
      "cell_type": "code",
      "execution_count": null,
      "id": "675cd9ff",
      "metadata": {
        "id": "675cd9ff",
        "outputId": "1c29b706-1675-43a1-dcf9-0da372adf958"
      },
      "outputs": [
        {
          "name": "stderr",
          "output_type": "stream",
          "text": [
            "/home/sgangoly/anaconda3/envs/tf/lib/python3.9/site-packages/peft/utils/other.py:141: FutureWarning: prepare_model_for_int8_training is deprecated and will be removed in a future version. Use prepare_model_for_kbit_training instead.\n",
            "  warnings.warn(\n"
          ]
        },
        {
          "ename": "OutOfMemoryError",
          "evalue": "CUDA out of memory. Tried to allocate 800.00 MiB (GPU 0; 3.81 GiB total capacity; 3.15 GiB already allocated; 22.62 MiB free; 3.17 GiB reserved in total by PyTorch) If reserved memory is >> allocated memory try setting max_split_size_mb to avoid fragmentation.  See documentation for Memory Management and PYTORCH_CUDA_ALLOC_CONF",
          "output_type": "error",
          "traceback": [
            "\u001b[0;31m---------------------------------------------------------------------------\u001b[0m",
            "\u001b[0;31mOutOfMemoryError\u001b[0m                          Traceback (most recent call last)",
            "Cell \u001b[0;32mIn[30], line 3\u001b[0m\n\u001b[1;32m      1\u001b[0m tokenizer\u001b[38;5;241m.\u001b[39mpad_token \u001b[38;5;241m=\u001b[39m tokenizer\u001b[38;5;241m.\u001b[39meos_token\n\u001b[1;32m      2\u001b[0m model\u001b[38;5;241m.\u001b[39mresize_token_embeddings(\u001b[38;5;28mlen\u001b[39m(tokenizer))\n\u001b[0;32m----> 3\u001b[0m model \u001b[38;5;241m=\u001b[39m \u001b[43mprepare_model_for_int8_training\u001b[49m\u001b[43m(\u001b[49m\u001b[43mmodel\u001b[49m\u001b[43m)\u001b[49m\n\u001b[1;32m      4\u001b[0m model \u001b[38;5;241m=\u001b[39m get_peft_model(model, lora_peft_config)\n\u001b[1;32m      5\u001b[0m training_args \u001b[38;5;241m=\u001b[39m model_training_args\n",
            "File \u001b[0;32m~/anaconda3/envs/tf/lib/python3.9/site-packages/peft/utils/other.py:145\u001b[0m, in \u001b[0;36mprepare_model_for_int8_training\u001b[0;34m(*args, **kwargs)\u001b[0m\n\u001b[1;32m    140\u001b[0m \u001b[38;5;28;01mdef\u001b[39;00m \u001b[38;5;21mprepare_model_for_int8_training\u001b[39m(\u001b[38;5;241m*\u001b[39margs, \u001b[38;5;241m*\u001b[39m\u001b[38;5;241m*\u001b[39mkwargs):\n\u001b[1;32m    141\u001b[0m     warnings\u001b[38;5;241m.\u001b[39mwarn(\n\u001b[1;32m    142\u001b[0m         \u001b[38;5;124m\"\u001b[39m\u001b[38;5;124mprepare_model_for_int8_training is deprecated and will be removed in a future version. Use prepare_model_for_kbit_training instead.\u001b[39m\u001b[38;5;124m\"\u001b[39m,\n\u001b[1;32m    143\u001b[0m         \u001b[38;5;167;01mFutureWarning\u001b[39;00m,\n\u001b[1;32m    144\u001b[0m     )\n\u001b[0;32m--> 145\u001b[0m     \u001b[38;5;28;01mreturn\u001b[39;00m \u001b[43mprepare_model_for_kbit_training\u001b[49m\u001b[43m(\u001b[49m\u001b[38;5;241;43m*\u001b[39;49m\u001b[43margs\u001b[49m\u001b[43m,\u001b[49m\u001b[43m \u001b[49m\u001b[38;5;241;43m*\u001b[39;49m\u001b[38;5;241;43m*\u001b[39;49m\u001b[43mkwargs\u001b[49m\u001b[43m)\u001b[49m\n",
            "File \u001b[0;32m~/anaconda3/envs/tf/lib/python3.9/site-packages/peft/utils/other.py:103\u001b[0m, in \u001b[0;36mprepare_model_for_kbit_training\u001b[0;34m(model, use_gradient_checkpointing, gradient_checkpointing_kwargs)\u001b[0m\n\u001b[1;32m    101\u001b[0m     \u001b[38;5;28;01mfor\u001b[39;00m param \u001b[38;5;129;01min\u001b[39;00m model\u001b[38;5;241m.\u001b[39mparameters():\n\u001b[1;32m    102\u001b[0m         \u001b[38;5;28;01mif\u001b[39;00m (param\u001b[38;5;241m.\u001b[39mdtype \u001b[38;5;241m==\u001b[39m torch\u001b[38;5;241m.\u001b[39mfloat16) \u001b[38;5;129;01mor\u001b[39;00m (param\u001b[38;5;241m.\u001b[39mdtype \u001b[38;5;241m==\u001b[39m torch\u001b[38;5;241m.\u001b[39mbfloat16):\n\u001b[0;32m--> 103\u001b[0m             param\u001b[38;5;241m.\u001b[39mdata \u001b[38;5;241m=\u001b[39m \u001b[43mparam\u001b[49m\u001b[38;5;241;43m.\u001b[39;49m\u001b[43mdata\u001b[49m\u001b[38;5;241;43m.\u001b[39;49m\u001b[43mto\u001b[49m\u001b[43m(\u001b[49m\u001b[43mtorch\u001b[49m\u001b[38;5;241;43m.\u001b[39;49m\u001b[43mfloat32\u001b[49m\u001b[43m)\u001b[49m\n\u001b[1;32m    105\u001b[0m \u001b[38;5;28;01mif\u001b[39;00m (loaded_in_kbit \u001b[38;5;129;01mor\u001b[39;00m is_gptq_quantized) \u001b[38;5;129;01mand\u001b[39;00m use_gradient_checkpointing:\n\u001b[1;32m    106\u001b[0m     \u001b[38;5;66;03m# When having `use_reentrant=False` + gradient_checkpointing, there is no need for this hack\u001b[39;00m\n\u001b[1;32m    107\u001b[0m     \u001b[38;5;28;01mif\u001b[39;00m \u001b[38;5;124m\"\u001b[39m\u001b[38;5;124muse_reentrant\u001b[39m\u001b[38;5;124m\"\u001b[39m \u001b[38;5;129;01mnot\u001b[39;00m \u001b[38;5;129;01min\u001b[39;00m gradient_checkpointing_kwargs \u001b[38;5;129;01mor\u001b[39;00m gradient_checkpointing_kwargs[\u001b[38;5;124m\"\u001b[39m\u001b[38;5;124muse_reentrant\u001b[39m\u001b[38;5;124m\"\u001b[39m]:\n\u001b[1;32m    108\u001b[0m         \u001b[38;5;66;03m# For backward compatibility\u001b[39;00m\n",
            "\u001b[0;31mOutOfMemoryError\u001b[0m: CUDA out of memory. Tried to allocate 800.00 MiB (GPU 0; 3.81 GiB total capacity; 3.15 GiB already allocated; 22.62 MiB free; 3.17 GiB reserved in total by PyTorch) If reserved memory is >> allocated memory try setting max_split_size_mb to avoid fragmentation.  See documentation for Memory Management and PYTORCH_CUDA_ALLOC_CONF"
          ]
        }
      ],
      "source": [
        "tokenizer.pad_token = tokenizer.eos_token\n",
        "model.resize_token_embeddings(len(tokenizer))\n",
        "model = prepare_model_for_int8_training(model)\n",
        "model = get_peft_model(model, lora_peft_config)\n",
        "training_args = model_training_args\n",
        "trainer = SFT_trainer\n",
        "trainer.train()"
      ]
    },
    {
      "cell_type": "markdown",
      "id": "b836cdd4",
      "metadata": {
        "id": "b836cdd4"
      },
      "source": [
        "It is important to mention that this training was performed on a local computer with a RTX 3070 GPU. It would likely be much faster on a cloud environment with a GPU.\n",
        "<br>\n",
        "\n",
        "- **tokenizer.pad_token = tokenizer.eos_token**: Sets padding token to be the same as the end-of-sentence token.\n",
        "- **model.resize_token_embeddings(len(tokenizer))**: Resizes the token embedding layer of the model to match the length of the tokenizer vocabulary.\n",
        "- **model = prepare_model_for_int8_training(model)**: Prepares the model for training with INT8 precision, likely performing quantization.\n",
        "- **model = get_peft_model(model, lora_peft_config)**: Adjusts the given model according to the PEFT configuration.\n",
        "- **training_args = model_training_args**: Assigns predefined training arguments to training_args.\n",
        "- **trainer = SFT_trainer**: Assigns the SFTTrainer instance to the variable trainer.\n",
        "- **trainer.train()**: Triggers the training process of the model according to the provided specifications."
      ]
    },
    {
      "cell_type": "code",
      "execution_count": null,
      "id": "14004733",
      "metadata": {
        "id": "14004733"
      },
      "outputs": [],
      "source": []
    }
  ],
  "metadata": {
    "kernelspec": {
      "display_name": "Python 3 (ipykernel)",
      "language": "python",
      "name": "python3"
    },
    "language_info": {
      "codemirror_mode": {
        "name": "ipython",
        "version": 3
      },
      "file_extension": ".py",
      "mimetype": "text/x-python",
      "name": "python",
      "nbconvert_exporter": "python",
      "pygments_lexer": "ipython3",
      "version": "3.9.15"
    },
    "colab": {
      "provenance": [],
      "include_colab_link": true
    }
  },
  "nbformat": 4,
  "nbformat_minor": 5
}